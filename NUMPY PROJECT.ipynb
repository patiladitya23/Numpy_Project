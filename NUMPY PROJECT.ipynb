{
 "cells": [
  {
   "cell_type": "code",
   "execution_count": 2,
   "id": "4c4bd828",
   "metadata": {},
   "outputs": [],
   "source": [
    "import numpy as np"
   ]
  },
  {
   "cell_type": "code",
   "execution_count": 6,
   "id": "7c95a752",
   "metadata": {},
   "outputs": [
    {
     "name": "stdout",
     "output_type": "stream",
     "text": [
      "[[ 2.  4.  6.  8. 10.]\n",
      " [12. 14. 16. 18. 20.]\n",
      " [22. 24. 26. 28. 30.]\n",
      " [32. 34. 36. 38. 40.]\n",
      " [42. 44. 46. 48. 50.]]\n"
     ]
    }
   ],
   "source": [
    "data = np.loadtxt(\"even_numbers.txt\")\n",
    "print(data)"
   ]
  },
  {
   "cell_type": "code",
   "execution_count": 7,
   "id": "72e2ddf2",
   "metadata": {},
   "outputs": [
    {
     "name": "stdout",
     "output_type": "stream",
     "text": [
      "<class 'numpy.ndarray'>\n"
     ]
    }
   ],
   "source": [
    "print(type(data))"
   ]
  },
  {
   "cell_type": "code",
   "execution_count": 12,
   "id": "22649877",
   "metadata": {},
   "outputs": [
    {
     "name": "stdout",
     "output_type": "stream",
     "text": [
      "[[14 18]\n",
      " [24 28]\n",
      " [34 38]\n",
      " [44 48]]\n"
     ]
    }
   ],
   "source": [
    "data = np.loadtxt(\"even_numbers.txt\",dtype=int,skiprows=1,usecols=(1,3))\n",
    "print(data)"
   ]
  },
  {
   "cell_type": "code",
   "execution_count": 14,
   "id": "94b6f2e1",
   "metadata": {},
   "outputs": [
    {
     "name": "stdout",
     "output_type": "stream",
     "text": [
      "[ 2 12 22 32 42]\n"
     ]
    }
   ],
   "source": [
    "data = np.loadtxt(\"even_numbers.txt\",dtype=int,usecols=(0))\n",
    "print(data)"
   ]
  },
  {
   "cell_type": "code",
   "execution_count": 15,
   "id": "86114a88",
   "metadata": {},
   "outputs": [
    {
     "name": "stdout",
     "output_type": "stream",
     "text": [
      "[[  1.        1.52101  13.64    ...   0.        0.        1.     ]\n",
      " [  2.        1.51761  13.89    ...   0.        0.        1.     ]\n",
      " [  3.        1.51618  13.53    ...   0.        0.        1.     ]\n",
      " ...\n",
      " [212.        1.52065  14.36    ...   1.64      0.        7.     ]\n",
      " [213.        1.51651  14.38    ...   1.57      0.        7.     ]\n",
      " [214.        1.51711  14.23    ...   1.67      0.        7.     ]]\n"
     ]
    }
   ],
   "source": [
    "data = np.loadtxt(\"glass.csv\",delimiter=',')\n",
    "print(data)"
   ]
  },
  {
   "cell_type": "code",
   "execution_count": 16,
   "id": "703f53d7",
   "metadata": {},
   "outputs": [
    {
     "name": "stdout",
     "output_type": "stream",
     "text": [
      "(214, 11)\n"
     ]
    }
   ],
   "source": [
    "print(data.shape)"
   ]
  },
  {
   "cell_type": "code",
   "execution_count": 18,
   "id": "7526e2dc",
   "metadata": {},
   "outputs": [
    {
     "name": "stdout",
     "output_type": "stream",
     "text": [
      "float64\n"
     ]
    }
   ],
   "source": [
    "print(data.dtype)"
   ]
  },
  {
   "cell_type": "code",
   "execution_count": 19,
   "id": "e5052daf",
   "metadata": {},
   "outputs": [
    {
     "name": "stdout",
     "output_type": "stream",
     "text": [
      "[[ 1.52101 13.64     4.49    ...  0.       0.       1.     ]\n",
      " [ 1.51761 13.89     3.6     ...  0.       0.       1.     ]\n",
      " [ 1.51618 13.53     3.55    ...  0.       0.       1.     ]\n",
      " ...\n",
      " [ 1.52065 14.36     0.      ...  1.64     0.       7.     ]\n",
      " [ 1.51651 14.38     0.      ...  1.57     0.       7.     ]\n",
      " [ 1.51711 14.23     0.      ...  1.67     0.       7.     ]]\n"
     ]
    }
   ],
   "source": [
    "print(data[:,1:])"
   ]
  },
  {
   "cell_type": "code",
   "execution_count": 20,
   "id": "6d4ce200",
   "metadata": {},
   "outputs": [
    {
     "ename": "ValueError",
     "evalue": "Some errors were detected !\n    Line #5 (got 4 columns instead of 5)",
     "output_type": "error",
     "traceback": [
      "\u001b[1;31m---------------------------------------------------------------------------\u001b[0m",
      "\u001b[1;31mValueError\u001b[0m                                Traceback (most recent call last)",
      "\u001b[1;32m~\\AppData\\Local\\Temp/ipykernel_10796/1449063534.py\u001b[0m in \u001b[0;36m<module>\u001b[1;34m\u001b[0m\n\u001b[1;32m----> 1\u001b[1;33m \u001b[0mdata\u001b[0m \u001b[1;33m=\u001b[0m \u001b[0mnp\u001b[0m\u001b[1;33m.\u001b[0m\u001b[0mgenfromtxt\u001b[0m\u001b[1;33m(\u001b[0m\u001b[1;34m'odd_numbers.txt'\u001b[0m\u001b[1;33m)\u001b[0m\u001b[1;33m\u001b[0m\u001b[1;33m\u001b[0m\u001b[0m\n\u001b[0m",
      "\u001b[1;32m~\\anaconda3\\lib\\site-packages\\numpy\\lib\\npyio.py\u001b[0m in \u001b[0;36mgenfromtxt\u001b[1;34m(fname, dtype, comments, delimiter, skip_header, skip_footer, converters, missing_values, filling_values, usecols, names, excludelist, deletechars, replace_space, autostrip, case_sensitive, defaultfmt, unpack, usemask, loose, invalid_raise, max_rows, encoding, like)\u001b[0m\n\u001b[0;32m   2120\u001b[0m             \u001b[1;31m# Raise an exception ?\u001b[0m\u001b[1;33m\u001b[0m\u001b[1;33m\u001b[0m\u001b[0m\n\u001b[0;32m   2121\u001b[0m             \u001b[1;32mif\u001b[0m \u001b[0minvalid_raise\u001b[0m\u001b[1;33m:\u001b[0m\u001b[1;33m\u001b[0m\u001b[1;33m\u001b[0m\u001b[0m\n\u001b[1;32m-> 2122\u001b[1;33m                 \u001b[1;32mraise\u001b[0m \u001b[0mValueError\u001b[0m\u001b[1;33m(\u001b[0m\u001b[0merrmsg\u001b[0m\u001b[1;33m)\u001b[0m\u001b[1;33m\u001b[0m\u001b[1;33m\u001b[0m\u001b[0m\n\u001b[0m\u001b[0;32m   2123\u001b[0m             \u001b[1;31m# Issue a warning ?\u001b[0m\u001b[1;33m\u001b[0m\u001b[1;33m\u001b[0m\u001b[0m\n\u001b[0;32m   2124\u001b[0m             \u001b[1;32melse\u001b[0m\u001b[1;33m:\u001b[0m\u001b[1;33m\u001b[0m\u001b[1;33m\u001b[0m\u001b[0m\n",
      "\u001b[1;31mValueError\u001b[0m: Some errors were detected !\n    Line #5 (got 4 columns instead of 5)"
     ]
    }
   ],
   "source": [
    "data = np.genfromtxt('odd_numbers.txt',invalid_raise=False)"
   ]
  },
  {
   "cell_type": "code",
   "execution_count": 21,
   "id": "6f567c4c",
   "metadata": {},
   "outputs": [
    {
     "name": "stdout",
     "output_type": "stream",
     "text": [
      "[[  1.        1.52101  13.64    ...   0.        0.        1.     ]\n",
      " [  2.        1.51761  13.89    ...   0.        0.        1.     ]\n",
      " [  3.        1.51618  13.53    ...   0.        0.        1.     ]\n",
      " ...\n",
      " [212.        1.52065  14.36    ...   1.64      0.        7.     ]\n",
      " [213.        1.51651  14.38    ...   1.57      0.        7.     ]\n",
      " [214.        1.51711  14.23    ...   1.67      0.        7.     ]]\n"
     ]
    }
   ],
   "source": [
    "print(data)"
   ]
  },
  {
   "cell_type": "code",
   "execution_count": 23,
   "id": "3d36cc6e",
   "metadata": {},
   "outputs": [],
   "source": [
    "data = np.genfromtxt('odd_numbers.csv',delimiter = ',')"
   ]
  },
  {
   "cell_type": "code",
   "execution_count": 24,
   "id": "7470ec03",
   "metadata": {},
   "outputs": [
    {
     "name": "stdout",
     "output_type": "stream",
     "text": [
      "[[ 1.  3.  5.  7.  9.]\n",
      " [11. 13. 15. 17. 19.]\n",
      " [21. 23. 25. 27. 29.]\n",
      " [31. 33. 35. 37. 39.]\n",
      " [43. 45. 47. 49. nan]]\n"
     ]
    }
   ],
   "source": [
    "print(data)"
   ]
  },
  {
   "cell_type": "code",
   "execution_count": 25,
   "id": "57518a53",
   "metadata": {},
   "outputs": [
    {
     "name": "stdout",
     "output_type": "stream",
     "text": [
      "[[ 1.  3.  5.  7.  9.]\n",
      " [11. 13. 15. 17. 19.]\n",
      " [21. 23. 25. 27. 29.]\n",
      " [31. 33. 35. 37. 39.]\n",
      " [43. 45. 47. 49.  0.]]\n"
     ]
    }
   ],
   "source": [
    "data = np.genfromtxt('odd_numbers.csv',delimiter = ',',filling_values=0)\n",
    "print(data)"
   ]
  },
  {
   "cell_type": "code",
   "execution_count": 29,
   "id": "891e1c5b",
   "metadata": {},
   "outputs": [
    {
     "name": "stdout",
     "output_type": "stream",
     "text": [
      "[['E1' 'M' '3' ... 'SHORT' 'S' 'WOOD']\n",
      " ['E2' 'A' '25' ... 'SHORT' 'S' 'WOOD']\n",
      " ['E3' 'A' '39' ... 'unknown' 'S' 'WOOD']\n",
      " ...\n",
      " ['E90' 'M' '7' ... 'LONG' 'F' 'ARCH']\n",
      " ['E100' 'O' '43' ... 'unknown' 'F' 'unknown']\n",
      " ['E109' 'A' '28' ... 'unknown' 'F' 'unknown']]\n"
     ]
    },
    {
     "name": "stderr",
     "output_type": "stream",
     "text": [
      "C:\\Users\\adity\\AppData\\Local\\Temp/ipykernel_10796/3204588460.py:1: DeprecationWarning: `np.str` is a deprecated alias for the builtin `str`. To silence this warning, use `str` by itself. Doing this will not modify any behavior and is safe. If you specifically wanted the numpy scalar type, use `np.str_` here.\n",
      "Deprecated in NumPy 1.20; for more details and guidance: https://numpy.org/devdocs/release/1.20.0-notes.html#deprecations\n",
      "  data = np.genfromtxt(\"highway.csv\",delimiter = ',',dtype = np.str)\n"
     ]
    }
   ],
   "source": [
    "data = np.genfromtxt(\"highway.csv\",delimiter = ',',dtype = np.str)\n",
    "data[data == \"?\"]='unknown'\n",
    "print(data)"
   ]
  },
  {
   "cell_type": "code",
   "execution_count": 31,
   "id": "f0ea6d66",
   "metadata": {},
   "outputs": [
    {
     "name": "stdout",
     "output_type": "stream",
     "text": [
      "['M' 'A' 'A' 'A' 'M' 'A' 'A' 'M' 'A' 'A' 'A' 'M' 'A' 'A' 'A' 'M' 'A' 'A'\n",
      " 'A' 'M' 'M' 'A' 'O' 'M' 'A' 'M' 'A' 'A' 'M' 'A' 'M' 'O' 'M' 'O' 'A' 'M'\n",
      " 'M' 'A' 'A' 'M' 'M' 'M' 'O' 'M' 'A' 'M' 'M' 'A' 'A' 'M' 'A' 'M' 'A' 'M'\n",
      " 'M' 'M' 'A' 'M' 'Y' 'M' 'A' 'O' 'O' 'A' 'M' 'O' 'A' 'A' 'A' 'A' 'A' 'A'\n",
      " 'A' 'A' 'O' 'A' 'M' 'M' 'A' 'M' 'A' 'M' 'O' 'O' 'M' 'M' 'A' 'A' 'A' 'A'\n",
      " 'O' 'Y' 'Y' 'M' 'M' 'M' 'M' 'A' 'O' 'O' 'M' 'A' 'M' 'A' 'O' 'M' 'O' 'A']\n"
     ]
    }
   ],
   "source": [
    "dat = data[:,1]\n",
    "print(dat)"
   ]
  },
  {
   "cell_type": "code",
   "execution_count": 33,
   "id": "84dbb3c1",
   "metadata": {},
   "outputs": [
    {
     "name": "stdout",
     "output_type": "stream",
     "text": [
      "41\n"
     ]
    }
   ],
   "source": [
    "M=0\n",
    "for i in dat:\n",
    "    if (i=='M'):\n",
    "        M+=1\n",
    "print(M)"
   ]
  },
  {
   "cell_type": "code",
   "execution_count": 34,
   "id": "4c43e38d",
   "metadata": {},
   "outputs": [
    {
     "name": "stdout",
     "output_type": "stream",
     "text": [
      "49\n"
     ]
    }
   ],
   "source": [
    "A=0\n",
    "for i in dat:\n",
    "    if(i=='A'):\n",
    "        A+=1\n",
    "print(A)"
   ]
  },
  {
   "cell_type": "code",
   "execution_count": 35,
   "id": "775ee652",
   "metadata": {},
   "outputs": [
    {
     "name": "stdout",
     "output_type": "stream",
     "text": [
      "15\n"
     ]
    }
   ],
   "source": [
    "O=0\n",
    "for i in dat:\n",
    "    if(i=='O'):\n",
    "        O+=1\n",
    "print(O)"
   ]
  },
  {
   "cell_type": "code",
   "execution_count": null,
   "id": "535335ca",
   "metadata": {},
   "outputs": [],
   "source": []
  }
 ],
 "metadata": {
  "kernelspec": {
   "display_name": "Python 3 (ipykernel)",
   "language": "python",
   "name": "python3"
  },
  "language_info": {
   "codemirror_mode": {
    "name": "ipython",
    "version": 3
   },
   "file_extension": ".py",
   "mimetype": "text/x-python",
   "name": "python",
   "nbconvert_exporter": "python",
   "pygments_lexer": "ipython3",
   "version": "3.9.7"
  }
 },
 "nbformat": 4,
 "nbformat_minor": 5
}
